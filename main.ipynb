{
 "cells": [
  {
   "cell_type": "markdown",
   "metadata": {},
   "source": [
    "# Travail pratique d'optimisation Combinatoire"
   ]
  },
  {
   "cell_type": "markdown",
   "metadata": {},
   "source": [
    "* Objectifs :"
   ]
  },
  {
   "cell_type": "markdown",
   "metadata": {},
   "source": [
    "ce travail pratique s'inscrit dans une série de mise en oeuvre des différentes heuristiques étudiées, dans le but de résoudre le problème de sac à dos qui est un problème classique en optimisation combinatoire."
   ]
  },
  {
   "cell_type": "markdown",
   "metadata": {},
   "source": [
    "* Avant-propos"
   ]
  },
  {
   "cell_type": "markdown",
   "metadata": {},
   "source": [
    "On sait que les variables binaires servent à représenter si un événement se réalise ou non. \n",
    "\n",
    "Et donc de façon simple, dans la théorie des graphes, cela modélise plutot les chemins que l'on décide de séléctionner ou pas.\n",
    "\n",
    "Aussi, la recherche opérationnelle est une discipline à cheval entre les maths, l'informatique et l'économie, l'optimisation combinatoire quant à elle est une branche qui proprose des heuristiques (c'est à dire des méthodes de résolutions intuitives, qui servent à la découverte des solutions) en se basant sur ce principe de 1 et de 0 à l'aide des variables binaires.\n",
    "\n",
    "Dans le cadre du cours de première année de master à l'Université de Rouen, nous avons pris plaisir à découvrir les heuristiques les plus populaires en utilisant le problème de sac à dos.\n",
    "\n",
    "Constat : nous avons compris que tout problème peut se résoudre à l'aide d'une heuristique et, qu'il est donc possible de résoudre <plusieurs applications de la recherche opérationnelle que ce soit, celui du \"voyageur de commerce\", \"celui du postier chinois\" en passant par \"le problème de transport\" et \"d'affectation\">,\n",
    "à l'aide d'un bon nombre d'heuristiques ou de méthodologie existante.\n",
    "\n",
    "Nous osons donc dire que <toutes heuristiques mènent à Rome>, mais dans notre cas nous verrons plus loin que en Optimisation Combinatoire Rome n'est pas unique, car il peut exister plusieurs solutions candidates à l'éléction de solution optimale et ce, en fonction des méthodes tel que nous le démontre Branche and Bound."
   ]
  },
  {
   "cell_type": "markdown",
   "metadata": {},
   "source": [
    "* Le problème du sac à dos"
   ]
  },
  {
   "cell_type": "markdown",
   "metadata": {},
   "source": [
    "il s'agit du problème de chargement, étant donné d'une part une collection d'objets caractérisés chacun par un volume et une valeur, et d'autre part un sac de volume limité, on charche à svoir quels objets faut-il charger dans le sac pour maximiiser la valeur totale du chargement."
   ]
  },
  {
   "cell_type": "markdown",
   "metadata": {},
   "source": [
    "* Importation des Librairies"
   ]
  },
  {
   "cell_type": "code",
   "execution_count": 2,
   "metadata": {},
   "outputs": [],
   "source": [
    "from methods.knapsack_solver import run_knapsack\n",
    "from methods.knapsack_greedy_solver import run_greedy\n",
    "from methods.knapsack_recursivity import run_recursivity\n",
    "from methods.knapsack_recursivity_memo import run_recursivity_memo\n",
    "from methods.knapsack_dynamic_programmation import run_bottum_up\n",
    "from methods.knapsack_BranchAndBound import KPBB\n",
    "from methods.knapsack_recuit_simule import run_annealing\n",
    "from methods.knapsack_genetique import kp_genetic\n",
    "#from methods.knapsack_tabou_search import run_ts\n",
    "\n",
    "from methods.others_functions import get_datas_in_an_other_format, get_knapsack_datas"
   ]
  },
  {
   "cell_type": "code",
   "execution_count": 3,
   "metadata": {},
   "outputs": [],
   "source": [
    "import numpy as np"
   ]
  },
  {
   "cell_type": "markdown",
   "metadata": {},
   "source": [
    "### 0 - Définition des données simples"
   ]
  },
  {
   "cell_type": "code",
   "execution_count": 141,
   "metadata": {},
   "outputs": [],
   "source": [
    "cap = 10\n",
    "values = [40, 50, 100, 95, 30]\n",
    "weights = [2, 3, 1, 5, 3]"
   ]
  },
  {
   "cell_type": "markdown",
   "metadata": {},
   "source": [
    "### 1 - Simple Knapsack Solver"
   ]
  },
  {
   "cell_type": "code",
   "execution_count": 5,
   "metadata": {},
   "outputs": [
    {
     "name": "stdout",
     "output_type": "stream",
     "text": [
      "pour une résolution simple et sans tri, la valeur optimale est : \n",
      " 220\n"
     ]
    }
   ],
   "source": [
    "solution = run_knapsack(values, weights, cap)\n",
    "\n",
    "print(\"pour une résolution simple et sans tri, la valeur optimale est : \\n\",solution)"
   ]
  },
  {
   "cell_type": "markdown",
   "metadata": {},
   "source": [
    "### 2 - Greedy Solver"
   ]
  },
  {
   "cell_type": "code",
   "execution_count": 5,
   "metadata": {},
   "outputs": [
    {
     "name": "stdout",
     "output_type": "stream",
     "text": [
      "valeurs =  [ 40  50 100  95  30]\n",
      "poids =  [2 3 1 5 3]\n",
      "la capacité maximale attendue est =  10 \n",
      "\n",
      "Ajouter l'item < 100 , 1 > dans le sac\n",
      "Ajouter l'item < 40 , 2 > dans le sac\n",
      "Ajouter l'item < 95 , 5 > dans le sac\n",
      "\n",
      " position finale de chaque item dans le sac =  [1 0 1 1 0]\n",
      "\n",
      " leurs valeurs respectivent =  [ 40 100  95]\n",
      "\n",
      " leurs poids respectifs =  [2 1 5]\n",
      "\n",
      " poid du sac à la solution optimale =  8\n",
      "\n",
      " pour une résolution en mode greedy et donc avec tri, la valeur optimale est : \n",
      " 235\n"
     ]
    }
   ],
   "source": [
    "solution = run_greedy(np.array(values), np.array(weights), cap)\n",
    "\n",
    "print(\"\\n pour une résolution en mode greedy et donc avec tri, la valeur optimale est : \\n\",solution)"
   ]
  },
  {
   "cell_type": "markdown",
   "metadata": {},
   "source": [
    "Nota : 1 on prend, 0 on ne prends pas !!!"
   ]
  },
  {
   "cell_type": "markdown",
   "metadata": {},
   "source": [
    "### 3 - Récursivité sans mémorisation"
   ]
  },
  {
   "cell_type": "code",
   "execution_count": 137,
   "metadata": {},
   "outputs": [
    {
     "name": "stdout",
     "output_type": "stream",
     "text": [
      "la solution avec récursivité et sans mémorsation :  (245, {4: 1, 3: 0, 2: 1, 1: 0, 0: 0})\n"
     ]
    }
   ],
   "source": [
    "datas = get_datas_in_an_other_format(values,weights)\n",
    "\n",
    "solution = run_recursivity(0,datas,cap,{})\n",
    "\n",
    "print(\"la solution avec récursivité et sans mémorsation : \",solution)"
   ]
  },
  {
   "cell_type": "markdown",
   "metadata": {},
   "source": [
    "### 4 - Récursivité avec memo"
   ]
  },
  {
   "cell_type": "code",
   "execution_count": 7,
   "metadata": {},
   "outputs": [
    {
     "name": "stdout",
     "output_type": "stream",
     "text": [
      "la solution avec récursivité est :  (245, {4: 1, 3: 0, 2: 1, 1: 1, 0: 0})\n"
     ]
    }
   ],
   "source": [
    "solution = run_recursivity_memo(0,datas,cap,{},{})\n",
    "\n",
    "print(\"la solution avec récursivité est : \",solution)"
   ]
  },
  {
   "cell_type": "markdown",
   "metadata": {},
   "source": [
    "### 5 - Dynamic Programmation (DPi)"
   ]
  },
  {
   "cell_type": "code",
   "execution_count": 8,
   "metadata": {},
   "outputs": [
    {
     "name": "stdout",
     "output_type": "stream",
     "text": [
      "la solution en DP(0) est =  225\n"
     ]
    }
   ],
   "source": [
    "solution = run_bottum_up(datas, cap)\n",
    "\n",
    "print('la solution en DP(0) est = ', solution)"
   ]
  },
  {
   "cell_type": "markdown",
   "metadata": {},
   "source": [
    "### 6 - Branch & Bound"
   ]
  },
  {
   "cell_type": "code",
   "execution_count": 9,
   "metadata": {},
   "outputs": [
    {
     "name": "stdout",
     "output_type": "stream",
     "text": [
      "la solution est en best first:  220\n"
     ]
    }
   ],
   "source": [
    "kpbb = KPBB(cap, values, weights)\n",
    "solution = kpbb.solve_()\n",
    "print(\"la solution est en best first: \", solution)"
   ]
  },
  {
   "cell_type": "markdown",
   "metadata": {},
   "source": [
    "### 7 - Simulated Annealing  (Récuit Simulé)"
   ]
  },
  {
   "cell_type": "code",
   "execution_count": 10,
   "metadata": {},
   "outputs": [
    {
     "name": "stdout",
     "output_type": "stream",
     "text": [
      "Les items en 1/0 sont :  [0, 1, 1, 1, 0]  et, la valeur optimale (améliorante) est :  245\n"
     ]
    },
    {
     "name": "stderr",
     "output_type": "stream",
     "text": [
      "/home/ketsia/Bureau/bureau/TP_Opti_Combi_MULAPI_TITA_Ketsia/methods/knapsack_recuit_simule.py:53: RuntimeWarning: overflow encountered in exp\n",
      "  acceptance_probability = min(np.exp(proposed_score-current_score), 1)\n"
     ]
    }
   ],
   "source": [
    "Sol, Val = run_annealing(cap,values,weights)\n",
    "\n",
    "print(\"Les items en 1/0 sont : \", str(Sol), \" et, la valeur optimale (améliorante) est : \", str(Val))"
   ]
  },
  {
   "cell_type": "markdown",
   "metadata": {},
   "source": [
    "### 8 - Algorithme Génétique"
   ]
  },
  {
   "cell_type": "code",
   "execution_count": 155,
   "metadata": {},
   "outputs": [
    {
     "name": "stdout",
     "output_type": "stream",
     "text": [
      "[(40, 2), (50, 3), (100, 1), (95, 5), (30, 3)]\n",
      "Generation #1:\t[1, 2, 0, 0, 2]\t-1\n",
      "Generation #2:\t[0, 1, 0, 1, 0]\t-1\n",
      "Generation #3:\t[1, 1, 0, 0, 2]\t-1\n",
      "Generation #4:\t[0, 1, 0, 1, 0]\t-1\n",
      "Generation #5:\t[1, 0, 0, 1, 0]\t-1\n",
      "[1, 1, 0, 1, 0]\n",
      "valeur opti :  185\n",
      "\n",
      " poids 10\n"
     ]
    }
   ],
   "source": [
    "datas = get_datas_in_an_other_format(values,weights)\n",
    "\n",
    "print(datas)\n",
    "\n",
    "params = {\n",
    "    \"vals\" : values,\n",
    "    \"weis\" : weights,\n",
    "    \"mutation_percentage\": 0.5,\n",
    "    \"select_top\": 3,\n",
    "    \"generation_size\": 5,\n",
    "    \"fit_threshold\": 0.5,\n",
    "    \"max_generations\": 5,\n",
    "    \"max_weight\": cap,\n",
    "    \"max_per_item\": 2,\n",
    "    \"items\": datas\n",
    "}\n",
    "\n",
    "sac = kp_genetic(params)\n",
    "\n",
    "res, vo, p = sac.run_genetic()\n",
    "\n",
    "print(res)\n",
    "print(\"valeur opti : \",vo)\n",
    "print(\"\\n poids\",p)"
   ]
  },
  {
   "cell_type": "markdown",
   "metadata": {},
   "source": [
    "## Dataset Knapsack experience"
   ]
  },
  {
   "cell_type": "markdown",
   "metadata": {},
   "source": [
    "#### Dans cette section on va s'intérresser à 2 datasets en raison de 2 par (dossier) échelle ou à la dimension (large_scale, low-dimensional) et pour l'ensemble de nos algorithmes."
   ]
  },
  {
   "cell_type": "markdown",
   "metadata": {},
   "source": [
    "- ce site nous a aidé à comprendre les fichiers :\n",
    "\n",
    "http://artemisa.unicauca.edu.co/~johnyortega/instances_01_KP/"
   ]
  },
  {
   "cell_type": "markdown",
   "metadata": {},
   "source": [
    "- et ce repository github à comparer les résultats :\n",
    "\n",
    "https://github.com/Lolik-Bolik/Knapsack_problem_0-1"
   ]
  },
  {
   "cell_type": "code",
   "execution_count": 5,
   "metadata": {},
   "outputs": [],
   "source": [
    "racine=\"datas/instances_01_KP\"\n",
    "\n",
    "# dans l'ordre indiqué \n",
    "\n",
    "# dataset 1 : 200 items, valeur optimale (2697), Capacité (997)\n",
    "V1, W1, C1, VW1, n1 = get_knapsack_datas(\"knapPI_3_200_1000_1\",\"large_scale\",racine)\n",
    "\n",
    "# dataset 2 : 6 items, valeur optimale (130), Capacité (80)\n",
    "V2, W2, C2, VW2, n2 = get_knapsack_datas(\"f9_l-d_kp_5_80\",\"low-dimensional\",racine)\n",
    "\n",
    "# On retient dataset 1 et dataset 2"
   ]
  },
  {
   "cell_type": "markdown",
   "metadata": {},
   "source": [
    "### A) Simple solver avec dataset 1 & 2"
   ]
  },
  {
   "cell_type": "code",
   "execution_count": 41,
   "metadata": {},
   "outputs": [
    {
     "name": "stdout",
     "output_type": "stream",
     "text": [
      "DATASET 1 - SOLUTION =  1693\n",
      "DATASET 2 - SOLUTION =  130\n"
     ]
    }
   ],
   "source": [
    "print(\"DATASET 1 - SOLUTION = \",run_knapsack(V1, W1, C1))\n",
    "print(\"DATASET 2 - SOLUTION = \",run_knapsack(V2, W2, C2))"
   ]
  },
  {
   "cell_type": "markdown",
   "metadata": {},
   "source": [
    "### B) Greedy solver avec dataset 1 & 2"
   ]
  },
  {
   "cell_type": "code",
   "execution_count": 5,
   "metadata": {},
   "outputs": [
    {
     "name": "stdout",
     "output_type": "stream",
     "text": [
      "valeurs =  [ 585  194  426  606  348  516  521 1092  422  749  895  337  143  557\n",
      "  945  915 1055  546  352  522  109  891 1001  459  222  767  194  698\n",
      "  838  107  674  644  815  434  982  866  467 1094 1084  993  399  733\n",
      "  533  231  782  528  172  800  974  717  238  974  956  820  245  519\n",
      " 1095  894  629  296  299 1097  377  216  197 1008  819  639  342  807\n",
      "  207  669  222  637  170 1031  198  826  700  587  745  872  367  613\n",
      " 1072  181  995 1043  313  158  848  403  587  864 1023  636  129  824\n",
      "  774  889  640  579  654  242  567  439  146  741  810  296  653  594\n",
      "  291  166  824  924  830  308 1088  811  190  900  440  414  649  389\n",
      "  296  501  965  566  778  789  670  933 1036  325  822  344  751  949\n",
      "  223  213  531  479  608  461  685  165  953  586  742  786 1092  386\n",
      "  825  989  386  124  912  591  959  991  763  190  188  281  279  314\n",
      "  287  117  719  572  361  518  946  519  292  456  361  782  614  406\n",
      "  986  301  630  485  949 1052  394  600  899  294  491  837  430  424\n",
      "  398 1092  890  324]\n",
      "poids =  [485  94 326 506 248 416 421 992 322 649 795 237  43 457 845 815 955 446\n",
      " 252 422   9 791 901 359 122 667  94 598 738   7 574 544 715 334 882 766\n",
      " 367 994 984 893 299 633 433 131 682 428  72 700 874 617 138 874 856 720\n",
      " 145 419 995 794 529 196 199 997 277 116  97 908 719 539 242 707 107 569\n",
      " 122 537  70 931  98 726 600 487 645 772 267 513 972  81 895 943 213  58\n",
      " 748 303 487 764 923 536  29 724 674 789 540 479 554 142 467 339  46 641\n",
      " 710 196 553 494 191  66 724 824 730 208 988 711  90 800 340 314 549 289\n",
      " 196 401 865 466 678 689 570 833 936 225 722 244 651 849 123 113 431 379\n",
      " 508 361 585  65 853 486 642 686 992 286 725 889 286  24 812 491 859 891\n",
      " 663  90  88 181 179 214 187  17 619 472 261 418 846 419 192 356 261 682\n",
      " 514 306 886 201 530 385 849 952 294 500 799 194 391 737 330 324 298 992\n",
      " 790 224]\n",
      "la capacité maximale attendue est =  997 \n",
      "\n",
      "Ajouter l'item < 107 , 7 > dans le sac\n",
      "Ajouter l'item < 109 , 9 > dans le sac\n",
      "Ajouter l'item < 117 , 17 > dans le sac\n",
      "Ajouter l'item < 124 , 24 > dans le sac\n",
      "Ajouter l'item < 129 , 29 > dans le sac\n",
      "Ajouter l'item < 143 , 43 > dans le sac\n",
      "Ajouter l'item < 146 , 46 > dans le sac\n",
      "Ajouter l'item < 158 , 58 > dans le sac\n",
      "Ajouter l'item < 165 , 65 > dans le sac\n",
      "Ajouter l'item < 166 , 66 > dans le sac\n",
      "Ajouter l'item < 170 , 70 > dans le sac\n",
      "Ajouter l'item < 172 , 72 > dans le sac\n",
      "Ajouter l'item < 181 , 81 > dans le sac\n",
      "Ajouter l'item < 188 , 88 > dans le sac\n",
      "Ajouter l'item < 190 , 90 > dans le sac\n",
      "Ajouter l'item < 190 , 90 > dans le sac\n",
      "Ajouter l'item < 194 , 94 > dans le sac\n",
      "\n",
      " position finale de chaque item dans le sac =  [0 1 0 0 0 0 0 0 0 0 0 0 1 0 0 0 0 0 0 0 1 0 0 0 0 0 0 0 0 1 0 0 0 0 0 0 0\n",
      " 0 0 0 0 0 0 0 0 0 1 0 0 0 0 0 0 0 0 0 0 0 0 0 0 0 0 0 0 0 0 0 0 0 0 0 0 0\n",
      " 1 0 0 0 0 0 0 0 0 0 0 1 0 0 0 1 0 0 0 0 0 0 1 0 0 0 0 0 0 0 0 0 1 0 0 0 0\n",
      " 0 0 1 0 0 0 0 0 0 1 0 0 0 0 0 0 0 0 0 0 0 0 0 0 0 0 0 0 0 0 0 0 0 0 0 0 1\n",
      " 0 0 0 0 0 0 0 0 0 1 0 0 0 0 0 1 1 0 0 0 0 1 0 0 0 0 0 0 0 0 0 0 0 0 0 0 0\n",
      " 0 0 0 0 0 0 0 0 0 0 0 0 0 0 0]\n",
      "\n",
      " leurs valeurs respectivent =  [194 143 109 107 172 170 181 158 129 146 166 190 165 124 190 188 117]\n",
      "\n",
      " leurs poids respectifs =  [94 43  9  7 72 70 81 58 29 46 66 90 65 24 90 88 17]\n",
      "\n",
      " poid du sac à la solution optimale =  949\n",
      "\n",
      "\n",
      "\n",
      "DATASET 1 - SOLUTION :  2649\n"
     ]
    }
   ],
   "source": [
    "print(\"\\n\\n\\nDATASET 1 - SOLUTION : \",run_greedy(np.array(V1), np.array(W1), C1))"
   ]
  },
  {
   "cell_type": "code",
   "execution_count": 39,
   "metadata": {},
   "outputs": [
    {
     "name": "stdout",
     "output_type": "stream",
     "text": [
      "valeurs =  [15 20 17  8 31]\n",
      "poids =  [15 20 17  8 31]\n",
      "la capacité maximale attendue est =  80 \n",
      "\n",
      "Ajouter l'item < 15 , 15 > dans le sac\n",
      "Ajouter l'item < 20 , 20 > dans le sac\n",
      "Ajouter l'item < 17 , 17 > dans le sac\n",
      "Ajouter l'item < 8 , 8 > dans le sac\n",
      "\n",
      " position finale de chaque item dans le sac =  [1 1 1 1 0]\n",
      "\n",
      " leurs valeurs respectivent =  [15 20 17  8]\n",
      "\n",
      " leurs poids respectifs =  [15 20 17  8]\n",
      "\n",
      " poid du sac à la solution optimale =  60\n",
      "\n",
      "\n",
      "\n",
      " DATASET 2 - SOLUTION :  60\n"
     ]
    }
   ],
   "source": [
    "print(\"\\n\\n\\n DATASET 2 - SOLUTION : \",run_greedy(np.array(W2), np.array(W2), C2))"
   ]
  },
  {
   "cell_type": "markdown",
   "metadata": {},
   "source": [
    "### C) Récursivité sans mémorisation avec dataset 1 & 2"
   ]
  },
  {
   "cell_type": "code",
   "execution_count": null,
   "metadata": {},
   "outputs": [],
   "source": [
    "print(\"DATASET 1 - SOLUTION : \",run_recursivity(0,get_datas_in_an_other_format(V1,W1),C1,{}))"
   ]
  },
  {
   "cell_type": "code",
   "execution_count": 43,
   "metadata": {},
   "outputs": [
    {
     "name": "stdout",
     "output_type": "stream",
     "text": [
      "DATASET 2 - SOLUTION :  (130, {4: 0, 3: 1, 2: 1, 1: 1, 0: 1})\n"
     ]
    }
   ],
   "source": [
    "print(\"DATASET 2 - SOLUTION : \",run_recursivity(0,get_datas_in_an_other_format(V2,W2),C2,{}))"
   ]
  },
  {
   "cell_type": "markdown",
   "metadata": {},
   "source": [
    "### D) Récursivité avec memo avec dataset 1 & 2"
   ]
  },
  {
   "cell_type": "code",
   "execution_count": 11,
   "metadata": {},
   "outputs": [
    {
     "name": "stdout",
     "output_type": "stream",
     "text": [
      "DATASET 1 - SOLUTION :  (2696, {199: 1, 198: 1, 197: 0, 196: 0, 195: 0, 194: 1, 193: 0, 192: 0, 191: 0, 190: 0, 189: 0, 188: 0, 187: 0, 186: 0, 185: 1, 184: 0, 183: 1, 182: 0, 181: 0, 180: 0, 179: 0, 178: 1, 177: 0, 176: 1, 175: 0, 174: 0, 173: 0, 172: 0, 171: 0, 170: 0, 169: 1, 168: 0, 167: 1, 166: 1, 165: 1, 164: 1, 163: 1, 162: 0, 161: 0, 160: 0, 159: 0, 158: 0, 157: 1, 156: 0, 155: 0, 154: 0, 153: 0, 152: 0, 151: 0, 150: 0, 149: 0, 148: 0, 147: 1, 146: 0, 145: 0, 144: 0, 143: 0, 142: 0, 141: 0, 140: 0, 139: 0, 138: 0, 137: 0, 136: 0, 135: 0, 134: 0, 133: 0, 132: 0, 131: 0, 130: 0, 129: 0, 128: 0, 127: 0, 126: 0, 125: 0, 124: 0, 123: 0, 122: 0, 121: 0, 120: 1, 119: 0, 118: 0, 117: 0, 116: 0, 115: 0, 114: 0, 113: 1, 112: 0, 111: 0, 110: 0, 109: 0, 108: 0, 107: 0, 106: 1, 105: 0, 104: 0, 103: 1, 102: 0, 101: 0, 100: 0, 99: 0, 98: 0, 97: 0, 96: 1, 95: 0, 94: 0, 93: 0, 92: 0, 91: 0, 90: 0, 89: 1, 88: 0, 87: 0, 86: 0, 85: 1, 84: 0, 83: 0, 82: 0, 81: 0, 80: 0, 79: 0, 78: 0, 77: 0, 76: 0, 75: 0, 74: 1, 73: 0, 72: 0, 71: 0, 70: 0, 69: 0, 68: 0, 67: 0, 66: 0, 65: 0, 64: 0, 63: 0, 62: 0, 61: 0, 60: 0, 59: 0, 58: 0, 57: 0, 56: 0, 55: 0, 54: 0, 53: 0, 52: 0, 51: 0, 50: 0, 49: 0, 48: 0, 47: 0, 46: 1, 45: 0, 44: 0, 43: 0, 42: 0, 41: 0, 40: 0, 39: 0, 38: 0, 37: 0, 36: 0, 35: 0, 34: 0, 33: 0, 32: 0, 31: 0, 30: 0, 29: 1, 28: 0, 27: 0, 26: 0, 25: 0, 24: 0, 23: 0, 22: 0, 21: 0, 20: 1, 19: 0, 18: 0, 17: 0, 16: 0, 15: 0, 14: 0, 13: 0, 12: 1, 11: 0, 10: 0, 9: 0, 8: 0, 7: 0, 6: 0, 5: 0, 4: 0, 3: 0, 2: 0, 1: 0, 0: 0})\n"
     ]
    }
   ],
   "source": [
    "print(\"DATASET 1 - SOLUTION : \",run_recursivity_memo(0,get_datas_in_an_other_format(V1,W1),C1,{},{}))"
   ]
  },
  {
   "cell_type": "code",
   "execution_count": 5,
   "metadata": {},
   "outputs": [
    {
     "name": "stdout",
     "output_type": "stream",
     "text": [
      "DATASET 2 - SOLUTION :  (130, {4: 0, 3: 1, 2: 1, 1: 1, 0: 1})\n"
     ]
    }
   ],
   "source": [
    "print(\"DATASET 2 - SOLUTION : \",run_recursivity_memo(0,get_datas_in_an_other_format(V2,W2),C2,{},{}))"
   ]
  },
  {
   "cell_type": "markdown",
   "metadata": {},
   "source": [
    "### E) Dynamic Programmation (DPi) avec Bottum_UP avec dataset 1 & 2"
   ]
  },
  {
   "cell_type": "code",
   "execution_count": 10,
   "metadata": {},
   "outputs": [
    {
     "name": "stdout",
     "output_type": "stream",
     "text": [
      "DATASET 1 - SOLUTION :  1791\n"
     ]
    }
   ],
   "source": [
    "print(\"DATASET 1 - SOLUTION : \",run_bottum_up(get_datas_in_an_other_format(V1,W1), C1))"
   ]
  },
  {
   "cell_type": "code",
   "execution_count": 6,
   "metadata": {},
   "outputs": [
    {
     "name": "stdout",
     "output_type": "stream",
     "text": [
      "DATASET 2 - SOLUTION :  109\n"
     ]
    }
   ],
   "source": [
    "print(\"DATASET 2 - SOLUTION : \",run_bottum_up(get_datas_in_an_other_format(V2,W2), C2))"
   ]
  },
  {
   "cell_type": "markdown",
   "metadata": {},
   "source": [
    "### F) Branch & Bound avec dataset 1 & 2"
   ]
  },
  {
   "cell_type": "code",
   "execution_count": 10,
   "metadata": {},
   "outputs": [
    {
     "name": "stdout",
     "output_type": "stream",
     "text": [
      "la solution est en best first:  1693\n"
     ]
    }
   ],
   "source": [
    "print(\"la solution est en best first: \", KPBB(C1, V1, W1).solve_())"
   ]
  },
  {
   "cell_type": "code",
   "execution_count": 7,
   "metadata": {},
   "outputs": [
    {
     "name": "stdout",
     "output_type": "stream",
     "text": [
      "la solution est en best first:  130\n"
     ]
    }
   ],
   "source": [
    "print(\"la solution est en best first: \", KPBB(C2, V2, W2).solve_())"
   ]
  },
  {
   "cell_type": "markdown",
   "metadata": {},
   "source": [
    "### G) Simulated Annealing  (Récuit Simulé) avec dataset 1 & 2"
   ]
  },
  {
   "cell_type": "code",
   "execution_count": 11,
   "metadata": {},
   "outputs": [
    {
     "name": "stdout",
     "output_type": "stream",
     "text": [
      "DATASET 1 - solution : Les items en 1/0 sont :  [0, 1, 0, 0, 0, 0, 0, 0, 0, 0, 0, 0, 1, 0, 0, 0, 0, 0, 0, 0, 1, 0, 0, 0, 0, 0, 0, 0, 0, 1, 0, 0, 0, 0, 0, 0, 0, 0, 0, 0, 0, 0, 0, 1, 0, 0, 1, 0, 0, 0, 0, 0, 0, 0, 0, 0, 0, 0, 0, 0, 0, 0, 0, 0, 0, 0, 0, 0, 0, 0, 1, 0, 0, 0, 1, 0, 0, 0, 0, 0, 0, 0, 0, 0, 0, 0, 0, 0, 0, 0, 0, 0, 0, 0, 0, 0, 0, 0, 0, 0, 0, 0, 0, 1, 0, 0, 0, 0, 0, 0, 0, 0, 0, 0, 0, 0, 0, 0, 0, 0, 1, 0, 0, 0, 0, 0, 0, 0, 0, 0, 0, 0, 0, 0, 0, 0, 0, 0, 0, 0, 1, 0, 0, 0, 0, 0, 0, 1, 0, 0, 0, 0, 0, 0, 0, 0, 0, 1, 0, 0, 0, 0, 0, 0, 0, 0, 0, 0, 0, 1, 0, 0, 0, 0, 0, 0, 0, 0, 0, 0, 0, 0, 0, 0, 0, 0, 0, 0, 0, 0, 0, 0, 0, 0, 0, 0, 0, 0, 0, 0]  et, la valeur optimale (améliorante) est :  2394\n"
     ]
    }
   ],
   "source": [
    "Sol, Val = run_annealing(C1,V1,W1)\n",
    "print(\"DATASET 1 - solution : Les items en 1/0 sont : \", str(Sol), \" et, la valeur optimale (améliorante) est : \", str(Val))"
   ]
  },
  {
   "cell_type": "code",
   "execution_count": 8,
   "metadata": {},
   "outputs": [
    {
     "name": "stdout",
     "output_type": "stream",
     "text": [
      "DATASET 2 - solution : Les items en 1/0 sont :  [1, 1, 1, 1, 0]  et, la valeur optimale (améliorante) est :  130\n"
     ]
    },
    {
     "name": "stderr",
     "output_type": "stream",
     "text": [
      "/home/ec2-user/SageMaker/Opti_Combi/ZeTP/methods/knapsack_recuit_simule.py:53: RuntimeWarning: overflow encountered in exp\n",
      "  acceptance_probability = min(np.exp(proposed_score-current_score), 1)\n"
     ]
    }
   ],
   "source": [
    "Sol, Val = run_annealing(C2,V2,W2)\n",
    "print(\"DATASET 2 - solution : Les items en 1/0 sont : \", str(Sol), \" et, la valeur optimale (améliorante) est : \", str(Val))"
   ]
  },
  {
   "cell_type": "markdown",
   "metadata": {},
   "source": [
    "### H) Algorithme Génétique avec dataset 1 & 2"
   ]
  },
  {
   "cell_type": "code",
   "execution_count": 108,
   "metadata": {},
   "outputs": [
    {
     "name": "stdout",
     "output_type": "stream",
     "text": [
      "[(585, 485), (194, 94), (426, 326), (606, 506), (348, 248), (516, 416), (521, 421), (1092, 992), (422, 322), (749, 649), (895, 795), (337, 237), (143, 43), (557, 457), (945, 845), (915, 815), (1055, 955), (546, 446), (352, 252), (522, 422), (109, 9), (891, 791), (1001, 901), (459, 359), (222, 122), (767, 667), (194, 94), (698, 598), (838, 738), (107, 7), (674, 574), (644, 544), (815, 715), (434, 334), (982, 882), (866, 766), (467, 367), (1094, 994), (1084, 984), (993, 893), (399, 299), (733, 633), (533, 433), (231, 131), (782, 682), (528, 428), (172, 72), (800, 700), (974, 874), (717, 617), (238, 138), (974, 874), (956, 856), (820, 720), (245, 145), (519, 419), (1095, 995), (894, 794), (629, 529), (296, 196), (299, 199), (1097, 997), (377, 277), (216, 116), (197, 97), (1008, 908), (819, 719), (639, 539), (342, 242), (807, 707), (207, 107), (669, 569), (222, 122), (637, 537), (170, 70), (1031, 931), (198, 98), (826, 726), (700, 600), (587, 487), (745, 645), (872, 772), (367, 267), (613, 513), (1072, 972), (181, 81), (995, 895), (1043, 943), (313, 213), (158, 58), (848, 748), (403, 303), (587, 487), (864, 764), (1023, 923), (636, 536), (129, 29), (824, 724), (774, 674), (889, 789), (640, 540), (579, 479), (654, 554), (242, 142), (567, 467), (439, 339), (146, 46), (741, 641), (810, 710), (296, 196), (653, 553), (594, 494), (291, 191), (166, 66), (824, 724), (924, 824), (830, 730), (308, 208), (1088, 988), (811, 711), (190, 90), (900, 800), (440, 340), (414, 314), (649, 549), (389, 289), (296, 196), (501, 401), (965, 865), (566, 466), (778, 678), (789, 689), (670, 570), (933, 833), (1036, 936), (325, 225), (822, 722), (344, 244), (751, 651), (949, 849), (223, 123), (213, 113), (531, 431), (479, 379), (608, 508), (461, 361), (685, 585), (165, 65), (953, 853), (586, 486), (742, 642), (786, 686), (1092, 992), (386, 286), (825, 725), (989, 889), (386, 286), (124, 24), (912, 812), (591, 491), (959, 859), (991, 891), (763, 663), (190, 90), (188, 88), (281, 181), (279, 179), (314, 214), (287, 187), (117, 17), (719, 619), (572, 472), (361, 261), (518, 418), (946, 846), (519, 419), (292, 192), (456, 356), (361, 261), (782, 682), (614, 514), (406, 306), (986, 886), (301, 201), (630, 530), (485, 385), (949, 849), (1052, 952), (394, 294), (600, 500), (899, 799), (294, 194), (491, 391), (837, 737), (430, 330), (424, 324), (398, 298), (1092, 992), (890, 790), (324, 224)]\n",
      "DATASET 2 - SOLUTION : \n",
      "Generation #1:\t[0, 0, 1, 1, 2, 0, 0, 2, 2, 1, 1, 0, 1, 1, 2, 1, 1, 1, 1, 2, 1, 0, 1, 1, 0, 0, 1, 1, 1, 0, 1, 2, 0, 2, 1, 2, 2, 1, 1, 0, 2, 1, 2, 2, 2, 0, 1, 1, 2, 1, 2, 0, 2, 1, 2, 0, 0, 2, 1, 0, 1, 1, 1, 0, 0, 0, 0, 1, 2, 1, 0, 1, 1, 1, 2, 1, 0, 0, 2, 0, 1, 0, 1, 1, 1, 1, 0, 1, 0, 2, 1, 0, 1, 2, 2, 2, 2, 2, 1, 0, 2, 0, 2, 2, 2, 0, 2, 1, 1, 1, 0, 2, 1, 1, 2, 1, 1, 2, 1, 1, 1, 2, 0, 1, 2, 2, 1, 1, 2, 0, 0, 2, 2, 2, 2, 1, 1, 0, 1, 2, 2, 2, 1, 2, 2, 1, 1, 2, 1, 0, 0, 1, 2, 0, 1, 0, 2, 1, 2, 1, 0, 2, 0, 2, 0, 2, 2, 2, 1, 2, 0, 1, 1, 1, 1, 0, 0, 0, 2, 0, 1, 1, 1, 2, 0, 2, 1, 0, 2, 0, 2, 0, 0, 2, 1, 1, 1, 2, 0, 1]\t-1\n",
      "Generation #2:\t[1, 0, 1, 0, 1, 0, 1, 2, 2, 0, 0, 1, 2, 0, 1, 1, 2, 1, 2, 1, 2, 2, 1, 2, 0, 0, 2, 1, 1, 2, 1, 1, 2, 1, 2, 1, 0, 0, 1, 2, 2, 0, 1, 0, 1, 0, 1, 0, 1, 0, 1, 1, 1, 2, 2, 0, 1, 0, 1, 0, 2, 2, 1, 0, 2, 2, 0, 0, 1, 2, 1, 1, 0, 1, 2, 0, 1, 1, 2, 1, 2, 0, 2, 2, 1, 2, 1, 1, 1, 0, 0, 0, 2, 2, 1, 2, 2, 0, 0, 0, 1, 0, 0, 1, 2, 0, 2, 2, 2, 1, 2, 2, 1, 1, 2, 1, 0, 2, 1, 2, 0, 2, 0, 1, 2, 1, 0, 1, 0, 2, 2, 0, 1, 1, 2, 0, 1, 2, 0, 1, 2, 0, 1, 0, 2, 0, 0, 0, 1, 2, 0, 1, 0, 2, 1, 1, 1, 1, 1, 0, 1, 2, 1, 1, 0, 0, 1, 0, 2, 2, 2, 2, 2, 0, 0, 1, 0, 0, 2, 2, 1, 1, 0, 2, 1, 0, 0, 0, 0, 1, 0, 1, 0, 1, 2, 2, 2, 0, 2, 0]\t-1\n",
      "Generation #3:\t[0, 1, 1, 0, 1, 0, 1, 2, 2, 0, 0, 1, 2, 0, 1, 1, 2, 1, 2, 1, 2, 2, 1, 2, 0, 0, 2, 1, 1, 2, 1, 1, 2, 1, 2, 1, 0, 0, 1, 2, 2, 0, 1, 0, 1, 0, 1, 0, 1, 0, 1, 1, 1, 2, 2, 0, 1, 0, 1, 0, 2, 2, 1, 0, 2, 2, 0, 0, 1, 2, 1, 1, 0, 1, 2, 0, 1, 1, 2, 1, 2, 0, 2, 2, 1, 2, 1, 1, 1, 0, 0, 0, 2, 2, 1, 2, 2, 0, 0, 0, 1, 0, 0, 1, 2, 0, 2, 2, 2, 1, 2, 2, 1, 1, 2, 1, 0, 2, 1, 2, 0, 2, 0, 1, 2, 1, 0, 1, 0, 2, 2, 0, 1, 1, 2, 0, 1, 2, 0, 1, 2, 0, 1, 0, 2, 0, 0, 0, 1, 2, 0, 1, 0, 2, 1, 1, 1, 1, 1, 0, 1, 2, 1, 1, 0, 0, 1, 0, 2, 2, 2, 2, 2, 0, 0, 1, 0, 0, 2, 2, 1, 1, 0, 2, 1, 0, 0, 0, 0, 1, 0, 1, 0, 1, 2, 2, 2, 0, 2, 0]\t-1\n",
      "Generation #4:\t[0, 0, 1, 0, 1, 0, 1, 2, 2, 0, 0, 1, 2, 0, 1, 1, 2, 1, 2, 1, 2, 2, 1, 2, 0, 0, 2, 1, 1, 2, 1, 1, 2, 1, 2, 1, 0, 0, 1, 2, 2, 0, 1, 0, 1, 0, 1, 0, 1, 0, 1, 1, 1, 2, 2, 0, 1, 0, 1, 0, 2, 2, 1, 0, 2, 2, 0, 0, 1, 2, 1, 1, 0, 1, 2, 0, 1, 1, 2, 1, 2, 0, 2, 2, 1, 2, 1, 1, 1, 0, 0, 0, 2, 2, 1, 2, 2, 0, 0, 0, 1, 0, 0, 1, 2, 0, 2, 2, 2, 1, 2, 2, 1, 1, 2, 1, 0, 2, 1, 2, 0, 2, 0, 1, 2, 1, 0, 1, 0, 2, 2, 0, 1, 1, 2, 0, 1, 2, 0, 1, 2, 0, 1, 0, 2, 0, 0, 0, 1, 2, 0, 1, 0, 2, 1, 1, 1, 1, 1, 0, 1, 2, 1, 1, 0, 0, 1, 0, 2, 2, 2, 2, 2, 0, 0, 1, 0, 0, 2, 2, 1, 1, 0, 2, 1, 0, 0, 0, 0, 1, 0, 1, 0, 1, 2, 2, 2, 0, 2, 0]\t-1\n",
      "Generation #5:\t[0, 0, 1, 0, 1, 0, 1, 2, 2, 0, 0, 1, 2, 0, 1, 1, 2, 1, 2, 1, 2, 2, 1, 2, 0, 0, 2, 1, 1, 2, 1, 1, 2, 1, 2, 1, 0, 0, 1, 2, 2, 0, 1, 0, 1, 0, 1, 0, 1, 0, 1, 1, 1, 2, 2, 0, 1, 0, 1, 0, 2, 2, 1, 0, 2, 2, 0, 0, 1, 2, 1, 1, 0, 1, 2, 0, 1, 1, 2, 1, 2, 0, 2, 2, 1, 2, 1, 1, 1, 0, 0, 0, 2, 2, 1, 2, 2, 0, 0, 0, 1, 0, 0, 1, 2, 0, 2, 2, 2, 1, 2, 2, 1, 1, 2, 1, 0, 2, 1, 2, 0, 2, 0, 1, 2, 1, 0, 1, 0, 2, 2, 0, 1, 1, 2, 0, 1, 2, 0, 1, 2, 0, 1, 0, 2, 0, 0, 0, 1, 2, 0, 1, 0, 2, 1, 1, 1, 1, 1, 0, 1, 2, 1, 1, 0, 0, 1, 0, 2, 2, 2, 2, 2, 0, 0, 1, 0, 0, 2, 2, 1, 1, 0, 2, 1, 0, 0, 0, 0, 1, 0, 1, 0, 1, 2, 2, 2, 0, 2, 0]\t-1\n",
      "[0, 1, 1, 0, 1, 0, 1, 2, 2, 0, 0, 1, 2, 0, 1, 1, 2, 1, 2, 1, 2, 2, 1, 2, 0, 0, 2, 1, 1, 2, 1, 1, 2, 1, 2, 1, 0, 0, 1, 2, 2, 0, 1, 0, 1, 0, 1, 0, 1, 0, 1, 1, 1, 2, 2, 0, 1, 0, 1, 0, 2, 2, 1, 0, 2, 2, 0, 0, 1, 2, 1, 1, 0, 1, 2, 0, 1, 1, 2, 1, 2, 0, 2, 2, 1, 2, 1, 1, 1, 0, 0, 0, 2, 2, 1, 2, 2, 0, 0, 0, 1, 0, 0, 1, 2, 0, 2, 2, 2, 1, 2, 2, 1, 1, 2, 1, 0, 2, 1, 2, 0, 2, 0, 1, 2, 1, 0, 1, 0, 2, 2, 0, 1, 1, 2, 0, 1, 2, 0, 1, 2, 0, 1, 0, 2, 0, 0, 0, 1, 2, 0, 1, 0, 2, 1, 1, 1, 1, 1, 0, 1, 2, 1, 1, 0, 0, 1, 0, 2, 2, 2, 2, 2, 0, 0, 1, 0, 0, 2, 2, 1, 1, 0, 2, 1, 0, 0, 0, 0, 1, 0, 1, 0, 1, 2, 2, 2, 0, 2, 0]\n",
      "la valeur optimale :  116839\n",
      "le poids trouvé :  97039\n"
     ]
    }
   ],
   "source": [
    "datas = get_datas_in_an_other_format(V1,W1)\n",
    "\n",
    "print(datas)\n",
    "\n",
    "params = {\n",
    "    \"vals\" : V1,\n",
    "    \"weis\" : W1,\n",
    "    \"mutation_percentage\": 0.5,\n",
    "    \"select_top\": 2,\n",
    "    \"generation_size\": 2,\n",
    "    \"fit_threshold\": 0.5,\n",
    "    \"max_generations\": 5,\n",
    "    \"max_weight\": C1,\n",
    "    \"max_per_item\": 2,\n",
    "    \"items\": datas\n",
    "}\n",
    "\n",
    "print(\"DATASET 2 - SOLUTION : \")\n",
    "\n",
    "sac = kp_genetic(params)\n",
    "\n",
    "res, vo, p = sac.run_genetic()\n",
    "\n",
    "print(res)\n",
    "print(\"la valeur optimale : \",vo)\n",
    "print(\"le poids trouvé : \",p)"
   ]
  },
  {
   "cell_type": "code",
   "execution_count": 84,
   "metadata": {},
   "outputs": [
    {
     "name": "stdout",
     "output_type": "stream",
     "text": [
      "[(33, 15), (24, 20), (36, 17), (37, 8), (12, 31)]\n",
      "DATASET 2 - SOLUTION : \n",
      "\n",
      "Generation #1:\t[1, 1, 1, 2, 0]\t-1\n",
      "25\n",
      "25\n",
      "[0, 0, 1, 2, 0]\n",
      "la valeur optimale :  110\n",
      "le poids trouvé :  33\n"
     ]
    }
   ],
   "source": [
    "datas = get_datas_in_an_other_format(V2,W2)\n",
    "\n",
    "print(datas)\n",
    "\n",
    "params = {\n",
    "    \"vals\" : V2,\n",
    "    \"weis\" : W2,\n",
    "    \"mutation_percentage\": 0.5,\n",
    "    \"select_top\": 3,\n",
    "    \"generation_size\": 5,\n",
    "    \"fit_threshold\": 0.5,\n",
    "    \"max_generations\": 5,\n",
    "    \"max_weight\": C2,\n",
    "    \"max_per_item\": 2,\n",
    "    \"items\": datas\n",
    "}\n",
    "\n",
    "print(\"DATASET 2 - SOLUTION : \\n\")\n",
    "\n",
    "sac = kp_genetic(params)\n",
    "\n",
    "res, vo, p  = sac.run_genetic()\n",
    "\n",
    "print(res)\n",
    "print(\"la valeur optimale : \",vo)\n",
    "print(\"le poids trouvé : \",p)"
   ]
  },
  {
   "cell_type": "markdown",
   "metadata": {},
   "source": [
    "## Perspective : Recherche TABOU"
   ]
  },
  {
   "cell_type": "markdown",
   "metadata": {},
   "source": [
    "Grace à ce Travail Pratique, j'ai pu découvrire une autre heuristique du nom de TABOU_SEARCH (Rehcerhce Tabou) :\n",
    "\n",
    "Selon Jacques Teghem, la recherche Tabou, est une META HEURISTIQUE de recherche locale qui tente de remédier à l'inconvénient majeur d'une méthode de descente de rester bloquer dans un optimum local (donc il joue le même rôle que le recuit simulé), on se base sur le voisinage."
   ]
  },
  {
   "cell_type": "markdown",
   "metadata": {},
   "source": [
    "# Comparaison des résultats et Conclusion"
   ]
  },
  {
   "cell_type": "markdown",
   "metadata": {},
   "source": [
    "_______________\n",
    "NOM DATASET 1 : **KnapPI_3_200_1000_1** / VALEUR OPTIMALE ATTENDUE : **2697** / capacité attendue : **997** /  ITEMS : **200**\n",
    "_________________\n",
    "\n"
   ]
  },
  {
   "cell_type": "markdown",
   "metadata": {},
   "source": [
    "|   Algorithme            |Valeur opitmale trouvée|  Capacité  trouvée|Observation    |\n",
    "|-------------------------|:-:                    |:-:                |:-:            |\n",
    "|Simple Solver            |        1693           |   ####            |     ###       |\n",
    "|Greedy Solver            |        2649           |   949             |     Bon       |\n",
    "|Recursivité sans mémo    |                       |   ####            |     ###       |\n",
    "|Récursivité avec mémo    |        2696           |   ####            |     ###       | \n",
    "|Dynamic Prog avec BottumU|        1791           |   ####            |     ###       |\n",
    "|Branch & Bound           |        1693           |   +986            |    Pas mal    |\n",
    "|Recuit Simulé            |        2394           |   ####            |     ###       |\n",
    "|Genetique                |        ####           |   ####             |    Pas bon    |"
   ]
  },
  {
   "cell_type": "markdown",
   "metadata": {},
   "source": [
    "___________________\n",
    "NOM DATASET 2 : **f9_l-d_Kp_5_80** / VALEUR OPTIMALE ATTENDUE : **130** / capacité attendue : **80** / ITEMS : **5**\n",
    "___________________"
   ]
  },
  {
   "cell_type": "markdown",
   "metadata": {},
   "source": [
    "|   Algorithme            |Valeur opitmale trouvée|  Capacité  trouvée|Observation       |\n",
    "|-------------------------|:-:                    |:-:                |:-:               |\n",
    "|Simple Solver            |        130            |   60              |    Bon           |\n",
    "|Greedy Solver            |        60             |   60              |    Pas mal       |\n",
    "|Recursivité sans mémo    |        130            |   60              |    Bon           |\n",
    "|Récursivité avec mémo    |        130            |   60              |    Bon           |  \n",
    "|Dynamic Prog avec BottumU|        109            |   60              |    Bon           |\n",
    "|Branch & Bound           |        130            |   60              |    Bon           |\n",
    "|Recuit Simulé            |        130            |   60              |    Bon           |\n",
    "|Genetique                |        110            |   33              |    Pas bon       |  "
   ]
  },
  {
   "cell_type": "markdown",
   "metadata": {},
   "source": [
    "En définitive, ce travail consistait à mettre en place un certain nombre d'algorithme en Optimisation Combinatoire, en utilisant le problème de sac à dos (Knapsack).\n",
    "\n",
    "Honnéteté scientifique oblige, j'ai été inspiré par certains reposit. github afin de pouvoir pallier aux difficultés ou, aux bugs rencontrés, d'autre part, les résultats ont été concluante pour le jeux de données de faibles instances, j'ose croire donc qu'il est possible de résoudre un problème combinatoire (1/0) en utilisant des méthodes sur la base d'un criètere, méthodes qui permettront d'atteindre un resultat.\n",
    "\n",
    "certains algorithmes n'ont pas de valeurs car ils ont mis beaucoup de temps pour l'éxécution c'est le cas notamme de la récursivité sans mémorisation, d'autres par contre ont été plus rapide tel que greedy."
   ]
  }
 ],
 "metadata": {
  "colab": {
   "collapsed_sections": [],
   "name": "SacADos_B&B.ipynb",
   "provenance": []
  },
  "interpreter": {
   "hash": "6f415e978cbbcfe4ee76e0f0ae60463270fd6aaaf7ce8526631058b94c49e7ac"
  },
  "kernelspec": {
   "display_name": "conda_python3",
   "language": "python",
   "name": "conda_python3"
  },
  "language_info": {
   "codemirror_mode": {
    "name": "ipython",
    "version": 3
   },
   "file_extension": ".py",
   "mimetype": "text/x-python",
   "name": "python",
   "nbconvert_exporter": "python",
   "pygments_lexer": "ipython3",
   "version": "3.6.13"
  }
 },
 "nbformat": 4,
 "nbformat_minor": 1
}
